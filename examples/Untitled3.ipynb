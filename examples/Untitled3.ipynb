{
 "cells": [
  {
   "cell_type": "code",
   "execution_count": 4,
   "id": "3368bada-eec3-4c10-a239-9d8fc08c3238",
   "metadata": {},
   "outputs": [
    {
     "name": "stderr",
     "output_type": "stream",
     "text": [
      "16:40:32 INFO    opendrift.models.basemodel:528: OpenDriftSimulation initialised (version 1.11.1 / v1.11.1-26-gc27e2f6-dirty)\n",
      "16:40:32 INFO    opendrift.readers.reader_ROMS_native:148: Opening dataset: /import/home/cpsarason/code/opendrift/tests/test_data/2Feb2016_Nordic_sigma_3d/Nordic-4km_SLEVELS_avg_00_subset2Feb2016.nc\n",
      "16:40:32 INFO    opendrift.readers.reader_ROMS_native:165: Opening file with Dataset\n",
      "16:40:32 INFO    opendrift.readers.reader_ROMS_native:246: Read GLS parameters from file.\n",
      "16:40:32 WARNING opendrift.readers.basereader.structured:50: No proj string or projection could be derived, using 'fakeproj'. This assumes that the variables are structured and gridded approximately equidistantly on the surface (i.e. in meters). This must be guaranteed by the user. You can get rid of this warning by supplying a valid projection to the reader.\n",
      "16:40:32 INFO    opendrift.readers.basereader.structured:90: Making interpolator for lon,lat to x,y conversion...\n"
     ]
    }
   ],
   "source": [
    "import numpy as np\n",
    "from opendrift.readers import reader_ROMS_native\n",
    "from opendrift.models.oceandrift import OceanDrift\n",
    "\n",
    "o = OceanDrift(loglevel=20)  # Set loglevel to 0 for debug information\n",
    "\n",
    "nordic_native = reader_ROMS_native.Reader(o.test_data_folder() +\n",
    "    '2Feb2016_Nordic_sigma_3d/Nordic-4km_SLEVELS_avg_00_subset2Feb2016.nc')\n",
    "o.add_reader(nordic_native)"
   ]
  },
  {
   "cell_type": "raw",
   "id": "ad270775-4059-4377-ae58-f8ab882a5440",
   "metadata": {},
   "source": [
    "nordic_native"
   ]
  },
  {
   "cell_type": "code",
   "execution_count": 5,
   "id": "4ea32e40-c77a-4026-b64c-7103d5129bf3",
   "metadata": {},
   "outputs": [
    {
     "name": "stdout",
     "output_type": "stream",
     "text": [
      "===========================\n",
      "Reader: roms native\n",
      "Projection: \n",
      "  None\n",
      "Coverage: [pixels]\n",
      "  xmin: 0.000000   xmax: 150.000000   step: 1   numx: 151\n",
      "  ymin: 0.000000   ymax: 80.000000   step: 1   numy: 81\n",
      "  Corners (lon, lat):\n",
      "    (  5.41,  67.56)  ( 16.39,  71.68)\n",
      "    ( 11.10,  65.64)  ( 22.02,  69.34)\n",
      "Vertical levels [sigma]: \n",
      "  [-0.98571429 -0.95714286 -0.92857143 -0.9        -0.87142857 -0.84285714\n",
      " -0.81428571 -0.78571429 -0.75714286 -0.72857143 -0.7        -0.67142857\n",
      " -0.64285714 -0.61428571 -0.58571429 -0.55714286 -0.52857143 -0.5\n",
      " -0.47142857 -0.44285714 -0.41428571 -0.38571429 -0.35714286 -0.32857143\n",
      " -0.3        -0.27142857 -0.24285714 -0.21428571 -0.18571429 -0.15714286\n",
      " -0.12857143 -0.1        -0.07142857 -0.04285714 -0.01428571]\n",
      "Available time range:\n",
      "  start: 2016-02-02 12:00:00   end: 2016-02-04 12:00:00   step: 1 day, 0:00:00\n",
      "    3 times (0 missing)\n",
      "Variables:\n",
      "  sea_ice_area_fraction\n",
      "  sea_floor_depth_below_sea_level\n",
      "  sea_ice_thickness\n",
      "  latitude\n",
      "  latitude\n",
      "  latitude\n",
      "  latitude\n",
      "  longitude\n",
      "  longitude\n",
      "  longitude\n",
      "  longitude\n",
      "  land_binary_mask\n",
      "  land_binary_mask\n",
      "  ocean_s_coordinate_g2\n",
      "  ocean_s_coordinate_g2\n",
      "  sea_water_salinity\n",
      "  sea_water_temperature\n",
      "  x_sea_water_velocity\n",
      "  sea_ice_x_velocity\n",
      "  y_sea_water_velocity\n",
      "  sea_ice_y_velocity\n",
      "  sea_surface_height\n",
      "  sea_ice_speed - derived from ['sea_ice_x_velocity', 'sea_ice_y_velocity']\n",
      "  sea_water_speed - derived from ['x_sea_water_velocity', 'y_sea_water_velocity']\n",
      "===========================\n",
      "\n"
     ]
    }
   ],
   "source": [
    "print(nordic_native)"
   ]
  },
  {
   "cell_type": "code",
   "execution_count": null,
   "id": "4f21e2ad-4dff-43be-8cd1-45ed0ad57516",
   "metadata": {},
   "outputs": [],
   "source": []
  },
  {
   "cell_type": "code",
   "execution_count": null,
   "id": "3eb5b97b-7053-4274-ad28-13d907351818",
   "metadata": {},
   "outputs": [],
   "source": []
  }
 ],
 "metadata": {
  "kernelspec": {
   "display_name": "Python 3 (ipykernel)",
   "language": "python",
   "name": "python3"
  },
  "language_info": {
   "codemirror_mode": {
    "name": "ipython",
    "version": 3
   },
   "file_extension": ".py",
   "mimetype": "text/x-python",
   "name": "python",
   "nbconvert_exporter": "python",
   "pygments_lexer": "ipython3",
   "version": "3.10.8"
  }
 },
 "nbformat": 4,
 "nbformat_minor": 5
}
